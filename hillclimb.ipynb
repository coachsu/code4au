{
  "nbformat": 4,
  "nbformat_minor": 0,
  "metadata": {
    "colab": {
      "name": "hillclimb.ipynb",
      "provenance": [],
      "collapsed_sections": [],
      "authorship_tag": "ABX9TyMM3jSRFNd92z3M2713WXEW",
      "include_colab_link": true
    },
    "kernelspec": {
      "name": "python3",
      "display_name": "Python 3"
    }
  },
  "cells": [
    {
      "cell_type": "markdown",
      "metadata": {
        "id": "view-in-github",
        "colab_type": "text"
      },
      "source": [
        "<a href=\"https://colab.research.google.com/github/coachsu/code4au/blob/master/hillclimb.ipynb\" target=\"_parent\"><img src=\"https://colab.research.google.com/assets/colab-badge.svg\" alt=\"Open In Colab\"/></a>"
      ]
    },
    {
      "cell_type": "markdown",
      "metadata": {
        "id": "XojuhjyGNa6I",
        "colab_type": "text"
      },
      "source": [
        "# **單元名稱**：從程式設計的角度來看微分\n",
        "本單元將帶同學以簡單的`Python`程式設計以爬山演算法(Hill Climbing)來看微分。"
      ]
    },
    {
      "cell_type": "markdown",
      "metadata": {
        "id": "WhGTlvLdNyxa",
        "colab_type": "text"
      },
      "source": [
        "首先，我們可以踩著巨人的肩膀來寫程式。因此要先告知我們想要踩的巨人有哪些？\n",
        "\n",
        "\n",
        "1.   `numpy`: 矩陣運算的巨人\n",
        "2.   `matplotlib.pyplot`: 繪圖的巨人\n",
        "\n",
        "\n"
      ]
    },
    {
      "cell_type": "code",
      "metadata": {
        "id": "aOHfAuMxKzFm",
        "colab_type": "code",
        "colab": {}
      },
      "source": [
        "import numpy as np\n",
        "import matplotlib.pyplot as plt"
      ],
      "execution_count": 0,
      "outputs": []
    },
    {
      "cell_type": "markdown",
      "metadata": {
        "id": "mnvisycpPRR9",
        "colab_type": "text"
      },
      "source": [
        "設定要找到極值的目標函數"
      ]
    },
    {
      "cell_type": "code",
      "metadata": {
        "id": "-mej_8SbK5RF",
        "colab_type": "code",
        "colab": {}
      },
      "source": [
        "# 目標函數\n",
        "def fun(x):\n",
        "  return  (6 * x - 3) - x ** 2"
      ],
      "execution_count": 0,
      "outputs": []
    },
    {
      "cell_type": "markdown",
      "metadata": {
        "id": "Sr-aYyB2Pg22",
        "colab_type": "text"
      },
      "source": [
        "接著，開始用爬山演算法來找到目標函數的極值\n",
        "\n",
        "**第1步**: 設定起始位置。例如，可以從水平線開始爬(即`x = 0`)等。"
      ]
    },
    {
      "cell_type": "code",
      "metadata": {
        "id": "Lsqc70j1K6ik",
        "colab_type": "code",
        "colab": {}
      },
      "source": [
        "# 設定起始位置\n",
        "def init():\n",
        "  return 0"
      ],
      "execution_count": 0,
      "outputs": []
    },
    {
      "cell_type": "markdown",
      "metadata": {
        "id": "x7EuRWf4QJdF",
        "colab_type": "text"
      },
      "source": [
        "**第2步**: 設定移動的方式。例如，往左或右爬、跨 1 小步或 1 大步等。"
      ]
    },
    {
      "cell_type": "code",
      "metadata": {
        "id": "rnudMJ2tK78Q",
        "colab_type": "code",
        "colab": {}
      },
      "source": [
        "# 設定移動方式\n",
        "# 傳入\n",
        "#   x: 為目前位置\n",
        "#   step: 為步伐大小\n",
        "# 回傳\n",
        "#   X: 所有可能的下一個位置 \n",
        "def move(x, step):\n",
        "  X = []\n",
        "  X.append(x - step)\n",
        "  X.append(x)\n",
        "  X.append(x + step)\n",
        "  return X "
      ],
      "execution_count": 0,
      "outputs": []
    },
    {
      "cell_type": "markdown",
      "metadata": {
        "id": "9REwvNuTQ3lL",
        "colab_type": "text"
      },
      "source": [
        "**第3步**: 設定評估的方式。決定怎麼爬比較好。"
      ]
    },
    {
      "cell_type": "code",
      "metadata": {
        "id": "ldJ6r5LMK9NE",
        "colab_type": "code",
        "colab": {}
      },
      "source": [
        "# 設定評估方式\n",
        "# order可以是 max 或 min 代表取得最大值或最小值 \n",
        "def eval(x, move, step, order, fun):\n",
        "  X = move(x, step)\n",
        "  Y = []\n",
        "  for x in X:\n",
        "    Y.append(fun(x))\n",
        "  idx = Y.index(order(Y))   # index()是在陣列中找尋某特定數值的位置\n",
        "  return X[idx]  "
      ],
      "execution_count": 0,
      "outputs": []
    },
    {
      "cell_type": "code",
      "metadata": {
        "id": "faX1TBzkK-Ti",
        "colab_type": "code",
        "colab": {}
      },
      "source": [
        "# 基本爬山法演算法\n",
        "def main():\n",
        "  X_history = []\n",
        "  step = 1\n",
        "  trials = 1\n",
        "\n",
        "  # Step 1. 取得初始位置\n",
        "  x = init()\n",
        "  X_history.append(x)\n",
        "  draw(x, fun)\n",
        "  # Step 2. 從初始位置開始往左右測試直到爬到山頂\n",
        "  newx = eval(x, move, step, max, fun)\n",
        "  while newx != x:\n",
        "    x = newx\n",
        "    draw(x, fun)\n",
        "    X_history.append(x)\n",
        "    newx = eval(x, move, step, max, fun)\n",
        "    trials = trials + 1\n",
        "  print('Optimal value is {} (x = {}) with {} trials'.format(fun(x), x, trials))\n",
        "  print(X_history)"
      ],
      "execution_count": 0,
      "outputs": []
    },
    {
      "cell_type": "code",
      "metadata": {
        "id": "bOb0iarNeEVl",
        "colab_type": "code",
        "colab": {}
      },
      "source": [
        "def draw(pos, fun):\n",
        "  vfun = np.vectorize(fun)\n",
        "  fig, axe = plt.subplots()\n",
        "  X = np.linspace(0,6,100).reshape((100,1))\n",
        "  axe.set_xlim(0,6)\n",
        "  axe.plot(X, vfun(X), '-b')\n",
        "  axe.plot(pos, vfun(pos), 'or')\n"
      ],
      "execution_count": 0,
      "outputs": []
    },
    {
      "cell_type": "code",
      "metadata": {
        "id": "2SOFWrDQK_S4",
        "colab_type": "code",
        "outputId": "bd1fd07c-20bc-4657-b269-f3d289ac219f",
        "colab": {
          "base_uri": "https://localhost:8080/",
          "height": 1000
        }
      },
      "source": [
        "if __name__ == '__main__':\n",
        "  main()"
      ],
      "execution_count": 0,
      "outputs": [
        {
          "output_type": "stream",
          "text": [
            "Optimal value is 6 (x = 3) with 4 trials\n",
            "[0, 1, 2, 3]\n"
          ],
          "name": "stdout"
        },
        {
          "output_type": "display_data",
          "data": {
            "image/png": "[encoded data removed]",
            "text/plain": [
              "<Figure size 432x288 with 1 Axes>"
            ]
          },
          "metadata": {
            "tags": [],
            "needs_background": "light"
          }
        },
        {
          "output_type": "display_data",
          "data": {
            "image/png": "[encoded data removed]",
            "text/plain": [
              "<Figure size 432x288 with 1 Axes>"
            ]
          },
          "metadata": {
            "tags": [],
            "needs_background": "light"
          }
        },
        {
          "output_type": "display_data",
          "data": {
            "image/png": "[encoded data removed]",
            "text/plain": [
              "<Figure size 432x288 with 1 Axes>"
            ]
          },
          "metadata": {
            "tags": [],
            "needs_background": "light"
          }
        },
        {
          "output_type": "display_data",
          "data": {
            "image/png": "[encoded data removed]",
            "text/plain": [
              "<Figure size 432x288 with 1 Axes>"
            ]
          },
          "metadata": {
            "tags": [],
            "needs_background": "light"
          }
        }
      ]
    }
  ]
}